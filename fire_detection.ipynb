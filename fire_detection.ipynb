{
 "cells": [
  {
   "cell_type": "code",
   "execution_count": null,
   "metadata": {},
   "outputs": [],
   "source": [
    "import tensorflow as tf \n",
    "classifier = tf.keras.models.load_model('fire_detection_model.h5')"
   ]
  },
  {
   "cell_type": "code",
   "execution_count": 2,
   "metadata": {},
   "outputs": [],
   "source": [
    "import cv2\n",
    "import numpy as np\n",
    "from keras.preprocessing import image\n",
    "import numpy as np\n",
    "import playsound"
   ]
  },
  {
   "cell_type": "code",
   "execution_count": 3,
   "metadata": {},
   "outputs": [],
   "source": [
    "fire_recognition = {\"[1]\": \"No fire\", \n",
    "                    \"[0]\": \"Fire Detected!\"}\n",
    "fire_recognition_n = {\"n1\": \"no fire\", \n",
    "                      \"n0\": \"fire\"}"
   ]
  },
  {
   "cell_type": "code",
   "execution_count": 4,
   "metadata": {},
   "outputs": [],
   "source": [
    "def draw_test_play_sound(name, pred, im):\n",
    "    fire = fire_recognition[str(pred)]\n",
    "    BLACK = [0,0,0]\n",
    "    \n",
    "    expanded_image = cv2.copyMakeBorder(im, 5, 5, 5, 5,cv2.BORDER_CONSTANT,value=BLACK)\n",
    "    if(pred == [0]):\n",
    "        color = (0,0,255)\n",
    "        size = 2\n",
    "        bold = 5\n",
    "    else:\n",
    "        color = (0,255,0)\n",
    "        size = 1\n",
    "        bold = 2\n",
    "    cv2.putText(expanded_image, fire, (100,100) , cv2.FONT_HERSHEY_SIMPLEX,size, color, bold)\n",
    "    cv2.imshow(name, expanded_image)\n",
    "    if(res == [0]):\n",
    "        playsound.playsound(\"buzzer.mp3\",True)      "
   ]
  },
  {
   "cell_type": "markdown",
   "metadata": {},
   "source": [
    "Fire Detection in an Image"
   ]
  },
  {
   "cell_type": "code",
   "execution_count": 25,
   "metadata": {},
   "outputs": [],
   "source": [
    "image1 = cv2.imread('fire2.jpeg')\n",
    "image2 =  image.img_to_array(image1)\n",
    "input_im = image2.copy()\n",
    "input_original = input_im.copy()\n",
    "input_im = cv2.resize(input_im, (224, 224), interpolation = cv2.INTER_LINEAR)\n",
    "input_im = input_im / 255\n",
    "input_im = input_im.reshape(1,224,224,3)\n",
    "res = np.argmax(classifier.predict(input_im, 1, verbose = 0), axis=1)\n",
    "draw_test_play_sound(\"Prediction\", res, image1)\n",
    "cv2.waitKey(0)==13\n",
    "cv2.destroyAllWindows()"
   ]
  },
  {
   "cell_type": "markdown",
   "metadata": {},
   "source": [
    "Live Video Fire Detection"
   ]
  },
  {
   "cell_type": "code",
   "execution_count": 6,
   "metadata": {},
   "outputs": [],
   "source": [
    "cap = cv2.VideoCapture(0)\n",
    "while True:\n",
    "    status, input_im = cap.read()\n",
    "    input_original = input_im.copy()\n",
    "    input_im = cv2.resize(input_im, (224, 224), interpolation = cv2.INTER_LINEAR)\n",
    "    input_im = input_im / 255\n",
    "    input_im = input_im.reshape(1,224,224,3) \n",
    "    res = np.argmax(classifier.predict(input_im, 1, verbose = 0), axis=1)\n",
    "    draw_test_play_sound(\"Prediction\", res, input_original)\n",
    "    if cv2.waitKey(1)==13:\n",
    "        break\n",
    "cv2.destroyAllWindows()   \n",
    "cap.release()"
   ]
  },
  {
   "cell_type": "code",
   "execution_count": 1,
   "metadata": {},
   "outputs": [
    {
     "data": {
      "text/plain": [
       "5"
      ]
     },
     "execution_count": 1,
     "metadata": {},
     "output_type": "execute_result"
    }
   ],
   "source": [
    "2+3"
   ]
  },
  {
   "cell_type": "code",
   "execution_count": null,
   "metadata": {},
   "outputs": [],
   "source": []
  }
 ],
 "metadata": {
  "interpreter": {
   "hash": "d552834098240f346aa5c9ca5991e2e789c1d0a8dc7dfb81bca9e24af96f8e3c"
  },
  "kernelspec": {
   "display_name": "Python 3.8.10 ('tf')",
   "language": "python",
   "name": "python3"
  },
  "language_info": {
   "codemirror_mode": {
    "name": "ipython",
    "version": 3
   },
   "file_extension": ".py",
   "mimetype": "text/x-python",
   "name": "python",
   "nbconvert_exporter": "python",
   "pygments_lexer": "ipython3",
   "version": "3.8.10"
  },
  "orig_nbformat": 4
 },
 "nbformat": 4,
 "nbformat_minor": 2
}
